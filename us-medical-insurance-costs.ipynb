{
 "cells": [
  {
   "cell_type": "markdown",
   "metadata": {},
   "source": [
    "# U.S. Medical Insurance Costs"
   ]
  },
  {
   "cell_type": "code",
   "execution_count": 1,
   "metadata": {},
   "outputs": [],
   "source": [
    "#All libraries being used\n",
    "import csv as c\n",
    "import pandas as pd\n",
    "import numpy as np\n",
    "from scipy.stats import ttest_ind\n",
    "import scipy.stats\n",
    "import matplotlib.pyplot as plt\n",
    "import seaborn as sns"
   ]
  },
  {
   "cell_type": "code",
   "execution_count": 2,
   "metadata": {},
   "outputs": [],
   "source": [
    "def csvtodict(csvfile):\n",
    "    with open(csvfile) as csv:\n",
    "        insurance_info = c.DictReader(csv)\n",
    "        headers = insurance_info.fieldnames\n",
    "        ins_dict = dict()\n",
    "        for i in range(len(headers)):\n",
    "            ins_dict[headers[i]] = []\n",
    "        for row in insurance_info:\n",
    "            for i in ins_dict:\n",
    "                ins_dict[i].append(row[i])\n",
    "    return ins_dict\n"
   ]
  },
  {
   "cell_type": "code",
   "execution_count": 3,
   "metadata": {},
   "outputs": [],
   "source": [
    "ins_dict = csvtodict('insurance.csv')\n"
   ]
  },
  {
   "cell_type": "code",
   "execution_count": 4,
   "metadata": {},
   "outputs": [],
   "source": [
    "#turn lists into correct datatypes\n",
    "def float_lst(lst):\n",
    "    for x in range(len(lst)):\n",
    "        lst[x] = float(lst[x])\n",
    "    return lst"
   ]
  },
  {
   "cell_type": "code",
   "execution_count": 5,
   "metadata": {
    "scrolled": true
   },
   "outputs": [],
   "source": [
    "ins_dict['age'] = float_lst(ins_dict['age'])\n",
    "ins_dict['bmi'] = float_lst(ins_dict['bmi'])\n",
    "ins_dict['children'] = float_lst(ins_dict['children'])\n",
    "ins_dict['charges'] = float_lst(ins_dict['charges'])"
   ]
  },
  {
   "cell_type": "code",
   "execution_count": 6,
   "metadata": {
    "scrolled": true
   },
   "outputs": [],
   "source": [
    "#turn gender into binary\n",
    "for i in range(len(ins_dict['sex'])):\n",
    "    if ins_dict['sex'][i] == 'male':\n",
    "        ins_dict['sex'][i] = 0\n",
    "    else:\n",
    "        ins_dict['sex'][i] = 1\n",
    "        \n",
    "#turn smoker into binary\n",
    "for i in range(len(ins_dict['smoker'])):\n",
    "    if ins_dict['smoker'][i] == 'no':\n",
    "        ins_dict['smoker'][i] = 0\n",
    "    else:\n",
    "        ins_dict['smoker'][i] = 1\n"
   ]
  },
  {
   "cell_type": "code",
   "execution_count": 7,
   "metadata": {},
   "outputs": [],
   "source": [
    "def listsort(inputlist):\n",
    "    output = dict()\n",
    "    for i in inputlist:\n",
    "        if i in output:\n",
    "            output[i].append(1)\n",
    "        else:\n",
    "            output[i] = []\n",
    "    for i in output:\n",
    "        output[i] = sum(output[i])\n",
    "    return output"
   ]
  },
  {
   "cell_type": "code",
   "execution_count": 8,
   "metadata": {},
   "outputs": [],
   "source": [
    "def avg(lst):\n",
    "    return sum(lst)/len(lst)"
   ]
  },
  {
   "cell_type": "code",
   "execution_count": 9,
   "metadata": {},
   "outputs": [
    {
     "name": "stdout",
     "output_type": "stream",
     "text": [
      "proportion of women 0.4947683109118087\n",
      "Average age 39.20702541106129\n",
      "Average bmi 30.663396860986538\n",
      "Average number of children 1.0949177877429\n",
      "proportion of smokers 0.20478325859491778\n",
      "{'southwest': 324, 'southeast': 363, 'northwest': 324, 'northeast': 323}\n",
      "Average charges 13270.422265141257\n"
     ]
    }
   ],
   "source": [
    "print('proportion of women ' + str(avg(ins_dict['sex'])))\n",
    "print('Average age '+ str(avg(ins_dict['age'])))\n",
    "print('Average bmi ' + str(avg(ins_dict['bmi'])))\n",
    "print('Average number of children ' + str(avg(ins_dict['children'])))\n",
    "print('proportion of smokers ' + str(avg(ins_dict['smoker'])))\n",
    "print(listsort(ins_dict['region']))\n",
    "print('Average charges ' + str(avg(ins_dict['charges'])))"
   ]
  },
  {
   "cell_type": "code",
   "execution_count": 10,
   "metadata": {},
   "outputs": [],
   "source": [
    "#seperate female and male \n",
    "female_charges = []\n",
    "male_charges = []\n",
    "for i in range(len(ins_dict['sex'])):\n",
    "    if ins_dict['sex'][i] == 1:\n",
    "        female_charges.append(ins_dict['charges'][i])\n",
    "    else:\n",
    "        male_charges.append(ins_dict['charges'][i])\n"
   ]
  },
  {
   "cell_type": "markdown",
   "metadata": {},
   "source": [
    "# Data Reading and Cleaning\n"
   ]
  },
  {
   "cell_type": "markdown",
   "metadata": {},
   "source": [
    "## Clean Data\n",
    "### Create Pandas DataFrame"
   ]
  },
  {
   "cell_type": "code",
   "execution_count": 11,
   "metadata": {},
   "outputs": [
    {
     "data": {
      "text/html": [
       "<div>\n",
       "<style scoped>\n",
       "    .dataframe tbody tr th:only-of-type {\n",
       "        vertical-align: middle;\n",
       "    }\n",
       "\n",
       "    .dataframe tbody tr th {\n",
       "        vertical-align: top;\n",
       "    }\n",
       "\n",
       "    .dataframe thead th {\n",
       "        text-align: right;\n",
       "    }\n",
       "</style>\n",
       "<table border=\"1\" class=\"dataframe\">\n",
       "  <thead>\n",
       "    <tr style=\"text-align: right;\">\n",
       "      <th></th>\n",
       "      <th>age</th>\n",
       "      <th>sex</th>\n",
       "      <th>bmi</th>\n",
       "      <th>children</th>\n",
       "      <th>smoker</th>\n",
       "      <th>region</th>\n",
       "      <th>charges</th>\n",
       "    </tr>\n",
       "  </thead>\n",
       "  <tbody>\n",
       "    <tr>\n",
       "      <th>0</th>\n",
       "      <td>19.0</td>\n",
       "      <td>1</td>\n",
       "      <td>27.900</td>\n",
       "      <td>0.0</td>\n",
       "      <td>1</td>\n",
       "      <td>southwest</td>\n",
       "      <td>16884.92400</td>\n",
       "    </tr>\n",
       "    <tr>\n",
       "      <th>1</th>\n",
       "      <td>18.0</td>\n",
       "      <td>0</td>\n",
       "      <td>33.770</td>\n",
       "      <td>1.0</td>\n",
       "      <td>0</td>\n",
       "      <td>southeast</td>\n",
       "      <td>1725.55230</td>\n",
       "    </tr>\n",
       "    <tr>\n",
       "      <th>2</th>\n",
       "      <td>28.0</td>\n",
       "      <td>0</td>\n",
       "      <td>33.000</td>\n",
       "      <td>3.0</td>\n",
       "      <td>0</td>\n",
       "      <td>southeast</td>\n",
       "      <td>4449.46200</td>\n",
       "    </tr>\n",
       "    <tr>\n",
       "      <th>3</th>\n",
       "      <td>33.0</td>\n",
       "      <td>0</td>\n",
       "      <td>22.705</td>\n",
       "      <td>0.0</td>\n",
       "      <td>0</td>\n",
       "      <td>northwest</td>\n",
       "      <td>21984.47061</td>\n",
       "    </tr>\n",
       "    <tr>\n",
       "      <th>4</th>\n",
       "      <td>32.0</td>\n",
       "      <td>0</td>\n",
       "      <td>28.880</td>\n",
       "      <td>0.0</td>\n",
       "      <td>0</td>\n",
       "      <td>northwest</td>\n",
       "      <td>3866.85520</td>\n",
       "    </tr>\n",
       "  </tbody>\n",
       "</table>\n",
       "</div>"
      ],
      "text/plain": [
       "    age  sex     bmi  children  smoker     region      charges\n",
       "0  19.0    1  27.900       0.0       1  southwest  16884.92400\n",
       "1  18.0    0  33.770       1.0       0  southeast   1725.55230\n",
       "2  28.0    0  33.000       3.0       0  southeast   4449.46200\n",
       "3  33.0    0  22.705       0.0       0  northwest  21984.47061\n",
       "4  32.0    0  28.880       0.0       0  northwest   3866.85520"
      ]
     },
     "execution_count": 11,
     "metadata": {},
     "output_type": "execute_result"
    }
   ],
   "source": [
    "#create pandas dataFrame\n",
    "insurance_data = pd.DataFrame(ins_dict)\n",
    "insurance_data.head()\n"
   ]
  },
  {
   "cell_type": "markdown",
   "metadata": {},
   "source": [
    "### Check for Null Values"
   ]
  },
  {
   "cell_type": "code",
   "execution_count": 12,
   "metadata": {},
   "outputs": [
    {
     "data": {
      "text/plain": [
       "age         0\n",
       "sex         0\n",
       "bmi         0\n",
       "children    0\n",
       "smoker      0\n",
       "region      0\n",
       "charges     0\n",
       "dtype: int64"
      ]
     },
     "execution_count": 12,
     "metadata": {},
     "output_type": "execute_result"
    }
   ],
   "source": [
    "insurance_data.isna().sum()"
   ]
  },
  {
   "cell_type": "markdown",
   "metadata": {},
   "source": [
    "### Seperate and Format Columns Appropriate for Study"
   ]
  },
  {
   "cell_type": "code",
   "execution_count": 13,
   "metadata": {},
   "outputs": [],
   "source": [
    "#seperate sex\n",
    "males_data = insurance_data[insurance_data['sex'] == 0]\n",
    "females_data = insurance_data[insurance_data['sex'] == 1]\n"
   ]
  },
  {
   "cell_type": "markdown",
   "metadata": {},
   "source": [
    "## Reading the Data\n"
   ]
  },
  {
   "cell_type": "code",
   "execution_count": 14,
   "metadata": {
    "scrolled": true
   },
   "outputs": [
    {
     "name": "stdout",
     "output_type": "stream",
     "text": [
      "<class 'pandas.core.frame.DataFrame'>\n",
      "RangeIndex: 1338 entries, 0 to 1337\n",
      "Data columns (total 7 columns):\n",
      " #   Column    Non-Null Count  Dtype  \n",
      "---  ------    --------------  -----  \n",
      " 0   age       1338 non-null   float64\n",
      " 1   sex       1338 non-null   int64  \n",
      " 2   bmi       1338 non-null   float64\n",
      " 3   children  1338 non-null   float64\n",
      " 4   smoker    1338 non-null   int64  \n",
      " 5   region    1338 non-null   object \n",
      " 6   charges   1338 non-null   float64\n",
      "dtypes: float64(4), int64(2), object(1)\n",
      "memory usage: 73.3+ KB\n"
     ]
    }
   ],
   "source": [
    "insurance_data.info()"
   ]
  },
  {
   "cell_type": "code",
   "execution_count": 15,
   "metadata": {},
   "outputs": [
    {
     "name": "stdout",
     "output_type": "stream",
     "text": [
      "<class 'pandas.core.frame.DataFrame'>\n",
      "Int64Index: 676 entries, 1 to 1333\n",
      "Data columns (total 7 columns):\n",
      " #   Column    Non-Null Count  Dtype  \n",
      "---  ------    --------------  -----  \n",
      " 0   age       676 non-null    float64\n",
      " 1   sex       676 non-null    int64  \n",
      " 2   bmi       676 non-null    float64\n",
      " 3   children  676 non-null    float64\n",
      " 4   smoker    676 non-null    int64  \n",
      " 5   region    676 non-null    object \n",
      " 6   charges   676 non-null    float64\n",
      "dtypes: float64(4), int64(2), object(1)\n",
      "memory usage: 42.2+ KB\n"
     ]
    }
   ],
   "source": [
    "males_data.info()"
   ]
  },
  {
   "cell_type": "code",
   "execution_count": 16,
   "metadata": {},
   "outputs": [
    {
     "name": "stdout",
     "output_type": "stream",
     "text": [
      "<class 'pandas.core.frame.DataFrame'>\n",
      "Int64Index: 662 entries, 0 to 1337\n",
      "Data columns (total 7 columns):\n",
      " #   Column    Non-Null Count  Dtype  \n",
      "---  ------    --------------  -----  \n",
      " 0   age       662 non-null    float64\n",
      " 1   sex       662 non-null    int64  \n",
      " 2   bmi       662 non-null    float64\n",
      " 3   children  662 non-null    float64\n",
      " 4   smoker    662 non-null    int64  \n",
      " 5   region    662 non-null    object \n",
      " 6   charges   662 non-null    float64\n",
      "dtypes: float64(4), int64(2), object(1)\n",
      "memory usage: 41.4+ KB\n"
     ]
    }
   ],
   "source": [
    "females_data.info()"
   ]
  },
  {
   "cell_type": "markdown",
   "metadata": {},
   "source": [
    "### Summarizing Ordinal Data"
   ]
  },
  {
   "cell_type": "code",
   "execution_count": 17,
   "metadata": {},
   "outputs": [],
   "source": [
    "def ordinal_info(df):\n",
    "    '''ordinal_info(DataFrame)\n",
    "    Takes in a data frame, removes Object Dtypes and then summarizes the other\n",
    "    columns in that DF with the Describe method and using Histograms \n",
    "    Needs matplotlib.pyplot and pandas imported'''\n",
    "    non_ordinal_col = df.select_dtypes(include = 'object').columns\n",
    "    for i in df.columns.drop(non_ordinal_col):\n",
    "        print(i[0].upper() + i[1:] + ' Statistics')\n",
    "        print(df[i].describe())\n",
    "        plt.hist(df[i], rwidth = .75)\n",
    "        plt.xlabel(i)\n",
    "        plt.ylabel('Count')\n",
    "        plt.show()"
   ]
  },
  {
   "cell_type": "code",
   "execution_count": 18,
   "metadata": {},
   "outputs": [
    {
     "name": "stdout",
     "output_type": "stream",
     "text": [
      "Age Statistics\n",
      "count    1338.000000\n",
      "mean       39.207025\n",
      "std        14.049960\n",
      "min        18.000000\n",
      "25%        27.000000\n",
      "50%        39.000000\n",
      "75%        51.000000\n",
      "max        64.000000\n",
      "Name: age, dtype: float64\n"
     ]
    },
    {
     "data": {
      "image/png": "[encoded data removed]",
      "text/plain": [
       "<Figure size 432x288 with 1 Axes>"
      ]
     },
     "metadata": {
      "needs_background": "light"
     },
     "output_type": "display_data"
    },
    {
     "name": "stdout",
     "output_type": "stream",
     "text": [
      "Sex Statistics\n",
      "count    1338.000000\n",
      "mean        0.494768\n",
      "std         0.500160\n",
      "min         0.000000\n",
      "25%         0.000000\n",
      "50%         0.000000\n",
      "75%         1.000000\n",
      "max         1.000000\n",
      "Name: sex, dtype: float64\n"
     ]
    },
    {
     "data": {
      "image/png": "[encoded data removed]",
      "text/plain": [
       "<Figure size 432x288 with 1 Axes>"
      ]
     },
     "metadata": {
      "needs_background": "light"
     },
     "output_type": "display_data"
    },
    {
     "name": "stdout",
     "output_type": "stream",
     "text": [
      "Bmi Statistics\n",
      "count    1338.000000\n",
      "mean       30.663397\n",
      "std         6.098187\n",
      "min        15.960000\n",
      "25%        26.296250\n",
      "50%        30.400000\n",
      "75%        34.693750\n",
      "max        53.130000\n",
      "Name: bmi, dtype: float64\n"
     ]
    },
    {
     "data": {
      "image/png": "[encoded data removed]",
      "text/plain": [
       "<Figure size 432x288 with 1 Axes>"
      ]
     },
     "metadata": {
      "needs_background": "light"
     },
     "output_type": "display_data"
    },
    {
     "name": "stdout",
     "output_type": "stream",
     "text": [
      "Children Statistics\n",
      "count    1338.000000\n",
      "mean        1.094918\n",
      "std         1.205493\n",
      "min         0.000000\n",
      "25%         0.000000\n",
      "50%         1.000000\n",
      "75%         2.000000\n",
      "max         5.000000\n",
      "Name: children, dtype: float64\n"
     ]
    },
    {
     "data": {
      "image/png": "[encoded data removed]",
      "text/plain": [
       "<Figure size 432x288 with 1 Axes>"
      ]
     },
     "metadata": {
      "needs_background": "light"
     },
     "output_type": "display_data"
    },
    {
     "name": "stdout",
     "output_type": "stream",
     "text": [
      "Smoker Statistics\n",
      "count    1338.000000\n",
      "mean        0.204783\n",
      "std         0.403694\n",
      "min         0.000000\n",
      "25%         0.000000\n",
      "50%         0.000000\n",
      "75%         0.000000\n",
      "max         1.000000\n",
      "Name: smoker, dtype: float64\n"
     ]
    },
    {
     "data": {
      "image/png": "[encoded data removed]",
      "text/plain": [
       "<Figure size 432x288 with 1 Axes>"
      ]
     },
     "metadata": {
      "needs_background": "light"
     },
     "output_type": "display_data"
    },
    {
     "name": "stdout",
     "output_type": "stream",
     "text": [
      "Charges Statistics\n",
      "count     1338.000000\n",
      "mean     13270.422265\n",
      "std      12110.011237\n",
      "min       1121.873900\n",
      "25%       4740.287150\n",
      "50%       9382.033000\n",
      "75%      16639.912515\n",
      "max      63770.428010\n",
      "Name: charges, dtype: float64\n"
     ]
    },
    {
     "data": {
      "image/png": "[encoded data removed]",
      "text/plain": [
       "<Figure size 432x288 with 1 Axes>"
      ]
     },
     "metadata": {
      "needs_background": "light"
     },
     "output_type": "display_data"
    }
   ],
   "source": [
    "ordinal_info(insurance_data)"
   ]
  },
  {
   "cell_type": "code",
   "execution_count": 19,
   "metadata": {},
   "outputs": [
    {
     "name": "stdout",
     "output_type": "stream",
     "text": [
      "Age Statistics\n",
      "count    676.000000\n",
      "mean      38.917160\n",
      "std       14.050141\n",
      "min       18.000000\n",
      "25%       26.000000\n",
      "50%       39.000000\n",
      "75%       51.000000\n",
      "max       64.000000\n",
      "Name: age, dtype: float64\n"
     ]
    },
    {
     "data": {
      "image/png": "[encoded data removed]",
      "text/plain": [
       "<Figure size 432x288 with 1 Axes>"
      ]
     },
     "metadata": {
      "needs_background": "light"
     },
     "output_type": "display_data"
    },
    {
     "name": "stdout",
     "output_type": "stream",
     "text": [
      "Sex Statistics\n",
      "count    676.0\n",
      "mean       0.0\n",
      "std        0.0\n",
      "min        0.0\n",
      "25%        0.0\n",
      "50%        0.0\n",
      "75%        0.0\n",
      "max        0.0\n",
      "Name: sex, dtype: float64\n"
     ]
    },
    {
     "data": {
      "image/png": "[encoded data removed]",
      "text/plain": [
       "<Figure size 432x288 with 1 Axes>"
      ]
     },
     "metadata": {
      "needs_background": "light"
     },
     "output_type": "display_data"
    },
    {
     "name": "stdout",
     "output_type": "stream",
     "text": [
      "Bmi Statistics\n",
      "count    676.000000\n",
      "mean      30.943129\n",
      "std        6.140435\n",
      "min       15.960000\n",
      "25%       26.410000\n",
      "50%       30.687500\n",
      "75%       34.992500\n",
      "max       53.130000\n",
      "Name: bmi, dtype: float64\n"
     ]
    },
    {
     "data": {
      "image/png": "[encoded data removed]",
      "text/plain": [
       "<Figure size 432x288 with 1 Axes>"
      ]
     },
     "metadata": {
      "needs_background": "light"
     },
     "output_type": "display_data"
    },
    {
     "name": "stdout",
     "output_type": "stream",
     "text": [
      "Children Statistics\n",
      "count    676.000000\n",
      "mean       1.115385\n",
      "std        1.218986\n",
      "min        0.000000\n",
      "25%        0.000000\n",
      "50%        1.000000\n",
      "75%        2.000000\n",
      "max        5.000000\n",
      "Name: children, dtype: float64\n"
     ]
    },
    {
     "data": {
      "image/png": "[encoded data removed]",
      "text/plain": [
       "<Figure size 432x288 with 1 Axes>"
      ]
     },
     "metadata": {
      "needs_background": "light"
     },
     "output_type": "display_data"
    },
    {
     "name": "stdout",
     "output_type": "stream",
     "text": [
      "Smoker Statistics\n",
      "count    676.000000\n",
      "mean       0.235207\n",
      "std        0.424442\n",
      "min        0.000000\n",
      "25%        0.000000\n",
      "50%        0.000000\n",
      "75%        0.000000\n",
      "max        1.000000\n",
      "Name: smoker, dtype: float64\n"
     ]
    },
    {
     "data": {
      "image/png": "[encoded data removed]",
      "text/plain": [
       "<Figure size 432x288 with 1 Axes>"
      ]
     },
     "metadata": {
      "needs_background": "light"
     },
     "output_type": "display_data"
    },
    {
     "name": "stdout",
     "output_type": "stream",
     "text": [
      "Charges Statistics\n",
      "count      676.000000\n",
      "mean     13956.751178\n",
      "std      12971.025915\n",
      "min       1121.873900\n",
      "25%       4619.134000\n",
      "50%       9369.615750\n",
      "75%      18989.590250\n",
      "max      62592.873090\n",
      "Name: charges, dtype: float64\n"
     ]
    },
    {
     "data": {
      "image/png": "[encoded data removed]",
      "text/plain": [
       "<Figure size 432x288 with 1 Axes>"
      ]
     },
     "metadata": {
      "needs_background": "light"
     },
     "output_type": "display_data"
    }
   ],
   "source": [
    "ordinal_info(males_data)"
   ]
  },
  {
   "cell_type": "code",
   "execution_count": 20,
   "metadata": {},
   "outputs": [
    {
     "name": "stdout",
     "output_type": "stream",
     "text": [
      "Age Statistics\n",
      "count    662.000000\n",
      "mean      39.503021\n",
      "std       14.054223\n",
      "min       18.000000\n",
      "25%       27.000000\n",
      "50%       40.000000\n",
      "75%       51.750000\n",
      "max       64.000000\n",
      "Name: age, dtype: float64\n"
     ]
    },
    {
     "data": {
      "image/png": "[encoded data removed]",
      "text/plain": [
       "<Figure size 432x288 with 1 Axes>"
      ]
     },
     "metadata": {
      "needs_background": "light"
     },
     "output_type": "display_data"
    },
    {
     "name": "stdout",
     "output_type": "stream",
     "text": [
      "Sex Statistics\n",
      "count    662.0\n",
      "mean       1.0\n",
      "std        0.0\n",
      "min        1.0\n",
      "25%        1.0\n",
      "50%        1.0\n",
      "75%        1.0\n",
      "max        1.0\n",
      "Name: sex, dtype: float64\n"
     ]
    },
    {
     "data": {
      "image/png": "[encoded data removed]",
      "text/plain": [
       "<Figure size 432x288 with 1 Axes>"
      ]
     },
     "metadata": {
      "needs_background": "light"
     },
     "output_type": "display_data"
    },
    {
     "name": "stdout",
     "output_type": "stream",
     "text": [
      "Bmi Statistics\n",
      "count    662.000000\n",
      "mean      30.377749\n",
      "std        6.046023\n",
      "min       16.815000\n",
      "25%       26.125000\n",
      "50%       30.107500\n",
      "75%       34.313750\n",
      "max       48.070000\n",
      "Name: bmi, dtype: float64\n"
     ]
    },
    {
     "data": {
      "image/png": "[encoded data removed]",
      "text/plain": [
       "<Figure size 432x288 with 1 Axes>"
      ]
     },
     "metadata": {
      "needs_background": "light"
     },
     "output_type": "display_data"
    },
    {
     "name": "stdout",
     "output_type": "stream",
     "text": [
      "Children Statistics\n",
      "count    662.000000\n",
      "mean       1.074018\n",
      "std        1.192115\n",
      "min        0.000000\n",
      "25%        0.000000\n",
      "50%        1.000000\n",
      "75%        2.000000\n",
      "max        5.000000\n",
      "Name: children, dtype: float64\n"
     ]
    },
    {
     "data": {
      "image/png": "[encoded data removed]",
      "text/plain": [
       "<Figure size 432x288 with 1 Axes>"
      ]
     },
     "metadata": {
      "needs_background": "light"
     },
     "output_type": "display_data"
    },
    {
     "name": "stdout",
     "output_type": "stream",
     "text": [
      "Smoker Statistics\n",
      "count    662.000000\n",
      "mean       0.173716\n",
      "std        0.379152\n",
      "min        0.000000\n",
      "25%        0.000000\n",
      "50%        0.000000\n",
      "75%        0.000000\n",
      "max        1.000000\n",
      "Name: smoker, dtype: float64\n"
     ]
    },
    {
     "data": {
      "image/png": "[encoded data removed]",
      "text/plain": [
       "<Figure size 432x288 with 1 Axes>"
      ]
     },
     "metadata": {
      "needs_background": "light"
     },
     "output_type": "display_data"
    },
    {
     "name": "stdout",
     "output_type": "stream",
     "text": [
      "Charges Statistics\n",
      "count      662.000000\n",
      "mean     12569.578844\n",
      "std      11128.703801\n",
      "min       1607.510100\n",
      "25%       4885.158700\n",
      "50%       9412.962500\n",
      "75%      14454.691825\n",
      "max      63770.428010\n",
      "Name: charges, dtype: float64\n"
     ]
    },
    {
     "data": {
      "image/png": "[encoded data removed]",
      "text/plain": [
       "<Figure size 432x288 with 1 Axes>"
      ]
     },
     "metadata": {
      "needs_background": "light"
     },
     "output_type": "display_data"
    }
   ],
   "source": [
    "ordinal_info(females_data)"
   ]
  },
  {
   "cell_type": "markdown",
   "metadata": {},
   "source": [
    "### Summarizing Categorical Data"
   ]
  },
  {
   "cell_type": "code",
   "execution_count": 21,
   "metadata": {},
   "outputs": [],
   "source": [
    "def nominal_info(df):\n",
    "    nominal_col = df.select_dtypes(include = 'object').columns\n",
    "    for i in df[nominal_col].columns:\n",
    "        print(i[0].upper() + i[1:] + ' Statistics')\n",
    "        print(df[i].describe())\n",
    "        print(df[i].value_counts())\n",
    "        plt.hist(df[i], rwidth = .75)\n",
    "        plt.xlabel(i)\n",
    "        plt.ylabel('Count')\n",
    "        plt.show()"
   ]
  },
  {
   "cell_type": "code",
   "execution_count": 22,
   "metadata": {},
   "outputs": [
    {
     "name": "stdout",
     "output_type": "stream",
     "text": [
      "Region Statistics\n",
      "count          1338\n",
      "unique            4\n",
      "top       southeast\n",
      "freq            364\n",
      "Name: region, dtype: object\n",
      "southeast    364\n",
      "southwest    325\n",
      "northwest    325\n",
      "northeast    324\n",
      "Name: region, dtype: int64\n"
     ]
    },
    {
     "data": {
      "image/png": "[encoded data removed]",
      "text/plain": [
       "<Figure size 432x288 with 1 Axes>"
      ]
     },
     "metadata": {
      "needs_background": "light"
     },
     "output_type": "display_data"
    }
   ],
   "source": [
    "nominal_info(insurance_data)"
   ]
  },
  {
   "cell_type": "code",
   "execution_count": 23,
   "metadata": {},
   "outputs": [
    {
     "name": "stdout",
     "output_type": "stream",
     "text": [
      "Region Statistics\n",
      "count           676\n",
      "unique            4\n",
      "top       southeast\n",
      "freq            189\n",
      "Name: region, dtype: object\n",
      "southeast    189\n",
      "northeast    163\n",
      "southwest    163\n",
      "northwest    161\n",
      "Name: region, dtype: int64\n"
     ]
    },
    {
     "data": {
      "image/png": "[encoded data removed]",
      "text/plain": [
       "<Figure size 432x288 with 1 Axes>"
      ]
     },
     "metadata": {
      "needs_background": "light"
     },
     "output_type": "display_data"
    }
   ],
   "source": [
    "nominal_info(males_data)"
   ]
  },
  {
   "cell_type": "code",
   "execution_count": 24,
   "metadata": {
    "scrolled": true
   },
   "outputs": [
    {
     "name": "stdout",
     "output_type": "stream",
     "text": [
      "Region Statistics\n",
      "count           662\n",
      "unique            4\n",
      "top       southeast\n",
      "freq            175\n",
      "Name: region, dtype: object\n",
      "southeast    175\n",
      "northwest    164\n",
      "southwest    162\n",
      "northeast    161\n",
      "Name: region, dtype: int64\n"
     ]
    },
    {
     "data": {
      "image/png": "[encoded data removed]",
      "text/plain": [
       "<Figure size 432x288 with 1 Axes>"
      ]
     },
     "metadata": {
      "needs_background": "light"
     },
     "output_type": "display_data"
    }
   ],
   "source": [
    "nominal_info(females_data)"
   ]
  },
  {
   "cell_type": "code",
   "execution_count": 25,
   "metadata": {},
   "outputs": [
    {
     "data": {
      "text/plain": [
       "<AxesSubplot:xlabel='sex', ylabel='count'>"
      ]
     },
     "execution_count": 25,
     "metadata": {},
     "output_type": "execute_result"
    },
    {
     "data": {
      "image/png": "[encoded data removed]",
      "text/plain": [
       "<Figure size 432x288 with 1 Axes>"
      ]
     },
     "metadata": {
      "needs_background": "light"
     },
     "output_type": "display_data"
    }
   ],
   "source": [
    "#visualize data\n",
    "sns.countplot(x = 'sex', hue = 'region', data = insurance_data)"
   ]
  },
  {
   "cell_type": "code",
   "execution_count": 26,
   "metadata": {},
   "outputs": [],
   "source": [
    "#ftest from https://www.statology.org/f-test-python/ by Zach July 14, 2020 accessed 11/13/2022 \n",
    "\n",
    "#define F-test function\n",
    "def f_test(x, y):\n",
    "    x = np.array(x)\n",
    "    y = np.array(y)\n",
    "    xvar = np.var(x, ddof=1)\n",
    "    yvar = np.var(y, ddof=1)\n",
    "    #find which variance is larger jg\n",
    "    if xvar > yvar:\n",
    "        bigvar = xvar\n",
    "        smallvar = yvar\n",
    "    else:\n",
    "        bigvar = yvar\n",
    "        smallvar = xvar\n",
    "    f = bigvar/smallvar #calculate F test statistic \n",
    "    dfn = x.size-1 #define degrees of freedom numerator \n",
    "    dfd = y.size-1 #define degrees of freedom denominator \n",
    "    p = 1-scipy.stats.f.cdf(f, dfn, dfd) #find p-value of F test statistic \n",
    "    return f, p\n",
    "\n"
   ]
  },
  {
   "cell_type": "code",
   "execution_count": 27,
   "metadata": {},
   "outputs": [
    {
     "name": "stdout",
     "output_type": "stream",
     "text": [
      "Evidence for unequal variance so we will use Welch T test\n",
      "Ttest_indResult(statistic=2.1008878232359565, pvalue=0.035841014956016645)\n"
     ]
    }
   ],
   "source": [
    "#test for variance equivalance and then use the appropriate T test, either Two Sample Independent or Welch's\n",
    "\n",
    "var_equal = f_test(males_data['charges'], females_data['charges'])\n",
    "if var_equal[1] > 0.05:\n",
    "    print('Evidence for equal variance so we will use Independent Two Sample t-Test')\n",
    "    print(ttest_ind(males_data['charges'], females_data['charges']))\n",
    "else:\n",
    "    print('Evidence for unequal variance so we will use Welch T test')\n",
    "    print(ttest_ind(males_data['charges'], females_data['charges'], equal_var = False))"
   ]
  },
  {
   "cell_type": "markdown",
   "metadata": {},
   "source": [
    "p value of 0.036 means there is evidence that males are charged more for insurance than females."
   ]
  }
 ],
 "metadata": {
  "kernelspec": {
   "display_name": "Python 3 (ipykernel)",
   "language": "python",
   "name": "python3"
  },
  "language_info": {
   "codemirror_mode": {
    "name": "ipython",
    "version": 3
   },
   "file_extension": ".py",
   "mimetype": "text/x-python",
   "name": "python",
   "nbconvert_exporter": "python",
   "pygments_lexer": "ipython3",
   "version": "3.9.12"
  }
 },
 "nbformat": 4,
 "nbformat_minor": 4
}
